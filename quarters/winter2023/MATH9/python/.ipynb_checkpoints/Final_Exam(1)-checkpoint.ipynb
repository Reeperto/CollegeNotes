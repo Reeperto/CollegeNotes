{
 "cells": [
  {
   "cell_type": "markdown",
   "metadata": {},
   "source": [
    "# Final Exam of Math 9, Winter 2023"
   ]
  },
  {
   "cell_type": "markdown",
   "metadata": {},
   "source": [
    "### Write your code right under each of the questions below (add cells)"
   ]
  },
  {
   "cell_type": "markdown",
   "metadata": {},
   "source": [
    "1(5pts). Use \"list comprehension\" generate a list a = [1,11,21,31,...,101]"
   ]
  },
  {
   "cell_type": "markdown",
   "metadata": {},
   "source": [
    "2(5pts). Write a function called disMat(m,n) that reshape a vector $[1,2,...,m\\cdot n]$ into a m-by-n matrix, i.e., the first row is $[1,2...,n]$ and so on. Apply your function to m=10 and n=20."
   ]
  },
  {
   "cell_type": "markdown",
   "metadata": {},
   "source": [
    "3(10pts). Plot functions $\\cos(x)+\\sin(6x)$, $\\cos(2x)+\\sin(5x)$, $\\cos(3x)+\\sin(4x)$, $\\cos(4x)+\\sin(3x)$, $\\cos(5x)+\\sin(2x)$, $\\cos(6x)+\\sin(x)$ on a 2-by-3 table of figures"
   ]
  },
  {
   "cell_type": "markdown",
   "metadata": {},
   "source": [
    "4(10pts). Write a function p=diceprob(n,s,k) to estimate the probability of rolling k dice and the getting the sum >= s with n experiments. Here, you are not allowed to use for loops. Apply your function to n=100000, s=15 and k =5."
   ]
  },
  {
   "cell_type": "markdown",
   "metadata": {},
   "source": [
    "5(10pts). In this question, you need to implement the bisection method.\n",
    "\n",
    "(a) Use lambda function to define $f(x)=x^2-2$\n",
    "\n",
    "(b) Use the bisection method with the initial guess $x_0 = 1$ and $x_1 = 2$ to locate the zero point of $f$. You need to make sure the function value at the zero point is at least less than $10^{-10}$. The approximation from each iteration should be stored in an array ``arr\", and this array should not contain any extra zeros."
   ]
  },
  {
   "cell_type": "code",
   "execution_count": null,
   "metadata": {},
   "outputs": [],
   "source": []
  }
 ],
 "metadata": {
  "kernelspec": {
   "display_name": "Python 3",
   "language": "python",
   "name": "python3"
  },
  "language_info": {
   "codemirror_mode": {
    "name": "ipython",
    "version": 3
   },
   "file_extension": ".py",
   "mimetype": "text/x-python",
   "name": "python",
   "nbconvert_exporter": "python",
   "pygments_lexer": "ipython3",
   "version": "3.8.5"
  }
 },
 "nbformat": 4,
 "nbformat_minor": 4
}
