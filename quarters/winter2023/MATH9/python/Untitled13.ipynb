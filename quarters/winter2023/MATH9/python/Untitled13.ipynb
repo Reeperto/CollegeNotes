{
 "cells": [
  {
   "cell_type": "markdown",
   "id": "29f4d470",
   "metadata": {},
   "source": [
    "# Newton's method in Python\n",
    "\n",
    "## A numerical algorithm to locate the roots of a functions $f(x)$\n",
    "\n",
    "$$\n",
    "x_{k+1} = x_k - f(x_k)/f'(x_k)\n",
    "$$\n",
    "provide with the initial guess $x_0$"
   ]
  },
  {
   "cell_type": "code",
   "execution_count": 1,
   "id": "44fcc16e",
   "metadata": {},
   "outputs": [],
   "source": [
    "import numpy as np"
   ]
  },
  {
   "cell_type": "markdown",
   "id": "8cf595f3",
   "metadata": {},
   "source": [
    "Example: $f(x) = x^3 - 2x + 2$"
   ]
  },
  {
   "cell_type": "code",
   "execution_count": 2,
   "id": "8c1414b4",
   "metadata": {},
   "outputs": [],
   "source": [
    "f = lambda x: x**3 - 2*x + 2"
   ]
  },
  {
   "cell_type": "code",
   "execution_count": 3,
   "id": "68537552",
   "metadata": {},
   "outputs": [],
   "source": [
    "df = lambda x:3*x**2 - 2"
   ]
  },
  {
   "cell_type": "code",
   "execution_count": 4,
   "id": "fcc2dafb",
   "metadata": {},
   "outputs": [],
   "source": [
    "newt = lambda z:z - f(z)/df(z)"
   ]
  },
  {
   "cell_type": "code",
   "execution_count": 5,
   "id": "3d147f78",
   "metadata": {},
   "outputs": [],
   "source": [
    "z = -1.5 # the initial guess\n",
    "iteNum = 10 # the total number of iterations\n",
    "arr = np.zeros(iteNum+1) # the approximation at each iteration\n",
    "arr[0] = z\n",
    "\n",
    "for i in range(iteNum):\n",
    "    arr[i+1] = newt(arr[i])"
   ]
  },
  {
   "cell_type": "code",
   "execution_count": 6,
   "id": "39021fc0",
   "metadata": {},
   "outputs": [
    {
     "data": {
      "text/plain": [
       "array([-1.5       , -1.84210526, -1.77282692, -1.76930129, -1.76929235,\n",
       "       -1.76929235, -1.76929235, -1.76929235, -1.76929235, -1.76929235,\n",
       "       -1.76929235])"
      ]
     },
     "execution_count": 6,
     "metadata": {},
     "output_type": "execute_result"
    }
   ],
   "source": [
    "arr"
   ]
  },
  {
   "cell_type": "code",
   "execution_count": 7,
   "id": "e3c2b0f3",
   "metadata": {},
   "outputs": [
    {
     "data": {
      "text/plain": [
       "array([ 1.62500000e+00, -5.66700685e-01, -2.61909903e-02, -6.60651520e-05,\n",
       "       -4.24061231e-10,  0.00000000e+00,  0.00000000e+00,  0.00000000e+00,\n",
       "        0.00000000e+00,  0.00000000e+00,  0.00000000e+00])"
      ]
     },
     "execution_count": 7,
     "metadata": {},
     "output_type": "execute_result"
    }
   ],
   "source": [
    "f(arr)"
   ]
  },
  {
   "cell_type": "code",
   "execution_count": null,
   "id": "23d81143",
   "metadata": {},
   "outputs": [],
   "source": []
  }
 ],
 "metadata": {
  "kernelspec": {
   "display_name": "Python 3 (ipykernel)",
   "language": "python",
   "name": "python3"
  },
  "language_info": {
   "codemirror_mode": {
    "name": "ipython",
    "version": 3
   },
   "file_extension": ".py",
   "mimetype": "text/x-python",
   "name": "python",
   "nbconvert_exporter": "python",
   "pygments_lexer": "ipython3",
   "version": "3.11.2"
  }
 },
 "nbformat": 4,
 "nbformat_minor": 5
}
